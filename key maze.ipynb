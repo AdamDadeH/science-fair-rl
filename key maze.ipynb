{
  "cells": [
    {
      "cell_type": "code",
      "execution_count": 16,
      "metadata": {
        "id": "j0g5ehcF-C35"
      },
      "outputs": [],
      "source": [
        "\"\"\"\n",
        "This is a maze game that uses reinforcement learning to navigate a maze.\n",
        "\"\"\"\n",
        "\n",
        "\"\"\"\n",
        "Library Dependencies : \n",
        "\n",
        "numpy - for creating and manipulating arrays and matrices\n",
        "matplotlib - for displaying the maze\n",
        "time - for timing the agent's progress\n",
        "\"\"\"\n",
        "\n",
        "import numpy as np\n",
        "import matplotlib.pyplot as plt\n",
        "import time\n",
        "\n",
        "from maze import Maze, random_maze, prims_maze\n",
        "from agents import GeneralQLearningAgent, QLearningAgent\n",
        "from simulate import run_single_simulation, test_agent, train_agent\n",
        "\n"
      ]
    },
    {
      "cell_type": "markdown",
      "metadata": {
        "id": "khPGglkq-R6G"
      },
      "source": [
        "The code below sets up a simple maze with walls, a starting point (S), and a goal point (G). The maze is set up on a grid where each cell is either a 0 or 1, with 0 representing a black empty space and 1 representing a white wall. For your science project, you can use the sample maze we have provided, or change the code to make your own.\n",
        "\n",
        "If you make your own maze follow these guidelines:\n",
        "*   You can make it any size you want.\n",
        "*   Make sure that the start and goal positions are located inside the maze and not on a wall.\n",
        "*   Make sure your maze has a path from the start to the goal.\n"
      ]
    },
    {
      "cell_type": "code",
      "execution_count": 17,
      "metadata": {
        "id": "fXssFI9q_gic"
      },
      "outputs": [
        {
          "data": {
            "image/png": "[encoded data removed]",
            "text/plain": [
              "<Figure size 800x800 with 1 Axes>"
            ]
          },
          "metadata": {},
          "output_type": "display_data"
        }
      ],
      "source": [
        "# Create any maze layout you'd like, here's an example\n",
        "maze_layout = np.array([\n",
        "    [0, 1, 0, 0, 0],\n",
        "    [0, 1, 1, 1, 0],\n",
        "    [0, 0, 0, 1, 0],\n",
        "    [1, 1, 0, 1, 1],\n",
        "    [0, 0, 0, 0, 0]\n",
        "])\n",
        "\n",
        "# Create an instance of the maze and set the starting and ending positions\n",
        "maze = Maze(maze_layout, (0, 0), (4, 4))\n",
        "\n",
        "# create a random maze\n",
        "#maze = random_maze(8)\n",
        "maze = prims_maze(8)\n",
        "# Visualize the maze\n",
        "maze.show_maze()"
      ]
    },
    {
      "cell_type": "markdown",
      "metadata": {
        "id": "4FbuYR2CAn1_"
      },
      "source": [
        "##**Defining the Reward System**"
      ]
    },
    {
      "cell_type": "markdown",
      "metadata": {
        "id": "vJcGuXGGAr9i"
      },
      "source": [
        "This code determines the values for the reward system. The reward system provides feedback to the agent in reinforcement learning.\n",
        "\n",
        "Use these default settings to see how the agent performs when untrained, and when initially trained.  Then adjust the values and repeat the training and evalution steps outlines in the project idea.  Keep adjusting systematically until you have engineered the best possible reward system to have the AI learn to efficiently navigate a maze."
      ]
    },
    {
      "cell_type": "code",
      "execution_count": 3,
      "metadata": {},
      "outputs": [],
      "source": [
        "# This function simulates the agent's movements in the maze for a single episode.\n",
        "default_reward_map = {\n",
        "    \"wall\": -10,\n",
        "    \"step\": -1,\n",
        "    \"goal\": 0\n",
        "}"
      ]
    },
    {
      "cell_type": "markdown",
      "metadata": {
        "id": "O5_ZzP1ZBB_D"
      },
      "source": [
        "## **Testing the Agent**"
      ]
    },
    {
      "cell_type": "markdown",
      "metadata": {
        "id": "lnZqfOpMo22Z"
      },
      "source": [
        "The code below tests how well the agent navigates the maze. It reports the total number of steps the agent took to get through the maze as well as the total reward the agent accumulated.\n",
        "\n",
        "Every time you want to test the agent, run the function ten times.  Each time note the number of steps the agent used to travel between the start and the goal, as well as the total reward. Calculate the average steps and average reward across all ten test trials.\n",
        "\n",
        "For your engineering project you will:\n",
        "1. Test the agent before training.\n",
        "2. Try solving the maze yourself by hand. What is the fewest number of steps you can take to solve the maze?\n",
        "2. Test the agent after training with the default reward system values.\n",
        "3. Make changes to the default reward system and test the agent.  You will repeat this until you have an agent who is learning very well."
      ]
    },
    {
      "cell_type": "markdown",
      "metadata": {
        "id": "ihUJlT3HNwgZ"
      },
      "source": [
        "Did you notice that the untrained agent takes *a lot* of steps? That is because the agent keeps backtracking and hitting walls. Before it has learned anything, it is blindly going through the maze, choosing its path randomly."
      ]
    },
    {
      "cell_type": "markdown",
      "metadata": {
        "id": "GGFiGxS9OORv"
      },
      "source": [
        "##**Setting Up the Reinforcement Learning Loop**"
      ]
    },
    {
      "cell_type": "markdown",
      "metadata": {
        "id": "m3Pw8SjLORia"
      },
      "source": [
        "Below is the code for Q-learning, a basic reinforcement learning algorithm. This is used to train the agent. This code updates the Q-values based on the rewards it receives during exploration.  You do not need to change this code for your engineering project."
      ]
    },
    {
      "cell_type": "markdown",
      "metadata": {
        "id": "_jrZKOEZOiKH"
      },
      "source": [
        "##**Training the Agent**"
      ]
    },
    {
      "cell_type": "code",
      "execution_count": 4,
      "metadata": {},
      "outputs": [],
      "source": [
        "# Creating the next agent\n",
        "agent = QLearningAgent(maze, maze.get_actions())"
      ]
    },
    {
      "cell_type": "code",
      "execution_count": 5,
      "metadata": {},
      "outputs": [
        {
          "name": "stdout",
          "output_type": "stream",
          "text": [
            "episode reward: -539, episode step: 100\n",
            "Learned Path:\n",
            "(0, 0)-> (1, 0)-> (0, 0)-> (1, 0)-> (1, 1)-> (1, 0)-> (0, 0)-> (1, 0)-> (1, 1)-> (1, 2)-> (1, 3)-> (1, 2)-> (1, 3)-> (1, 4)-> (0, 4)-> (1, 4)-> (1, 3)-> (1, 4)-> (1, 3)-> (1, 4)-> (0, 4)-> (1, 4)-> (0, 4)-> (1, 4)-> (0, 4)-> (1, 4)-> (1, 3)-> (1, 2)-> (2, 2)-> (1, 2)-> (2, 2)-> (3, 2)-> (2, 2)-> (3, 2)-> (2, 2)-> (3, 2)-> (3, 3)-> (3, 4)-> (3, 3)-> (3, 4)-> (4, 4)-> Goal!\n",
            "Number of steps: 100\n",
            "Total reward: -539\n"
          ]
        },
        {
          "data": {
            "text/plain": [
              "<Figure size 640x480 with 0 Axes>"
            ]
          },
          "metadata": {},
          "output_type": "display_data"
        },
        {
          "data": {
            "image/png": "[encoded data removed]",
            "text/plain": [
              "<Figure size 500x500 with 1 Axes>"
            ]
          },
          "metadata": {},
          "output_type": "display_data"
        },
        {
          "data": {
            "text/plain": [
              "(100, -539)"
            ]
          },
          "execution_count": 5,
          "metadata": {},
          "output_type": "execute_result"
        }
      ],
      "source": [
        "# Test the agent using the test_agent function\n",
        "test_agent(agent, maze)"
      ]
    },
    {
      "cell_type": "code",
      "execution_count": 6,
      "metadata": {
        "id": "kdDChsZ5Ok2k"
      },
      "outputs": [
        {
          "name": "stdout",
          "output_type": "stream",
          "text": [
            "epsiode : 0\n",
            "episode reward: -677, episode step: 139\n",
            "epsiode : 1\n",
            "episode reward: -633, episode step: 140\n",
            "epsiode : 2\n",
            "episode reward: -305, episode step: 91\n",
            "epsiode : 3\n",
            "episode reward: -1483, episode step: 333\n",
            "epsiode : 4\n",
            "episode reward: -93, episode step: 41\n",
            "epsiode : 5\n",
            "episode reward: -911, episode step: 229\n",
            "epsiode : 6\n",
            "episode reward: -283, episode step: 78\n",
            "epsiode : 7\n",
            "episode reward: 1, episode step: 19\n",
            "epsiode : 8\n",
            "episode reward: -41, episode step: 43\n",
            "epsiode : 9\n",
            "episode reward: -57, episode step: 50\n",
            "epsiode : 10\n",
            "episode reward: -89, episode step: 55\n",
            "epsiode : 11\n",
            "episode reward: -13, episode step: 24\n",
            "epsiode : 12\n",
            "episode reward: 65, episode step: 18\n",
            "epsiode : 13\n",
            "episode reward: 17, episode step: 30\n",
            "epsiode : 14\n",
            "episode reward: 15, episode step: 23\n",
            "epsiode : 15\n",
            "episode reward: 41, episode step: 15\n",
            "epsiode : 16\n",
            "episode reward: 9, episode step: 29\n",
            "epsiode : 17\n",
            "episode reward: -73, episode step: 39\n",
            "epsiode : 18\n",
            "episode reward: 51, episode step: 14\n",
            "epsiode : 19\n",
            "episode reward: 39, episode step: 17\n",
            "epsiode : 20\n",
            "episode reward: 91, episode step: 10\n",
            "epsiode : 21\n",
            "episode reward: 81, episode step: 11\n",
            "epsiode : 22\n",
            "episode reward: 83, episode step: 18\n",
            "epsiode : 23\n",
            "episode reward: 75, episode step: 17\n",
            "epsiode : 24\n",
            "episode reward: 91, episode step: 10\n",
            "epsiode : 25\n",
            "episode reward: 83, episode step: 9\n",
            "epsiode : 26\n",
            "episode reward: 39, episode step: 17\n",
            "epsiode : 27\n",
            "episode reward: 81, episode step: 11\n",
            "epsiode : 28\n",
            "episode reward: 81, episode step: 11\n",
            "epsiode : 29\n",
            "episode reward: 93, episode step: 8\n",
            "epsiode : 30\n",
            "episode reward: 45, episode step: 20\n",
            "epsiode : 31\n",
            "episode reward: 83, episode step: 9\n",
            "epsiode : 32\n",
            "episode reward: 91, episode step: 10\n",
            "epsiode : 33\n",
            "episode reward: 81, episode step: 11\n",
            "epsiode : 34\n",
            "episode reward: 85, episode step: 16\n",
            "epsiode : 35\n",
            "episode reward: 79, episode step: 13\n",
            "epsiode : 36\n",
            "episode reward: 83, episode step: 9\n",
            "epsiode : 37\n",
            "episode reward: 93, episode step: 8\n",
            "epsiode : 38\n",
            "episode reward: 93, episode step: 8\n",
            "epsiode : 39\n",
            "episode reward: 93, episode step: 8\n",
            "epsiode : 40\n",
            "episode reward: 83, episode step: 9\n",
            "epsiode : 41\n",
            "episode reward: 71, episode step: 12\n",
            "epsiode : 42\n",
            "episode reward: 93, episode step: 8\n",
            "epsiode : 43\n",
            "episode reward: 91, episode step: 10\n",
            "epsiode : 44\n",
            "episode reward: 83, episode step: 9\n",
            "epsiode : 45\n",
            "episode reward: 93, episode step: 8\n",
            "epsiode : 46\n",
            "episode reward: 93, episode step: 8\n",
            "epsiode : 47\n",
            "episode reward: 93, episode step: 8\n",
            "epsiode : 48\n",
            "episode reward: 93, episode step: 8\n",
            "epsiode : 49\n",
            "episode reward: 83, episode step: 9\n",
            "epsiode : 50\n",
            "episode reward: 93, episode step: 8\n",
            "epsiode : 51\n",
            "episode reward: 91, episode step: 10\n",
            "epsiode : 52\n",
            "episode reward: 93, episode step: 8\n",
            "epsiode : 53\n",
            "episode reward: 93, episode step: 8\n",
            "epsiode : 54\n",
            "episode reward: 91, episode step: 10\n",
            "epsiode : 55\n",
            "episode reward: 93, episode step: 8\n",
            "epsiode : 56\n",
            "episode reward: 93, episode step: 8\n",
            "epsiode : 57\n",
            "episode reward: 93, episode step: 8\n",
            "epsiode : 58\n",
            "episode reward: 93, episode step: 8\n",
            "epsiode : 59\n",
            "episode reward: 93, episode step: 8\n",
            "epsiode : 60\n",
            "episode reward: 83, episode step: 9\n",
            "epsiode : 61\n",
            "episode reward: 93, episode step: 8\n",
            "epsiode : 62\n",
            "episode reward: 91, episode step: 10\n",
            "epsiode : 63\n",
            "episode reward: 93, episode step: 8\n",
            "epsiode : 64\n",
            "episode reward: 93, episode step: 8\n",
            "epsiode : 65\n",
            "episode reward: 93, episode step: 8\n",
            "epsiode : 66\n",
            "episode reward: 93, episode step: 8\n",
            "epsiode : 67\n",
            "episode reward: 93, episode step: 8\n",
            "epsiode : 68\n",
            "episode reward: 93, episode step: 8\n",
            "epsiode : 69\n",
            "episode reward: 93, episode step: 8\n",
            "epsiode : 70\n",
            "episode reward: 93, episode step: 8\n",
            "epsiode : 71\n",
            "episode reward: 83, episode step: 9\n",
            "epsiode : 72\n",
            "episode reward: 93, episode step: 8\n",
            "epsiode : 73\n",
            "episode reward: 91, episode step: 10\n",
            "epsiode : 74\n",
            "episode reward: 91, episode step: 10\n",
            "epsiode : 75\n",
            "episode reward: 93, episode step: 8\n",
            "epsiode : 76\n",
            "episode reward: 91, episode step: 10\n",
            "epsiode : 77\n",
            "episode reward: 93, episode step: 8\n",
            "epsiode : 78\n",
            "episode reward: 93, episode step: 8\n",
            "epsiode : 79\n",
            "episode reward: 93, episode step: 8\n",
            "epsiode : 80\n",
            "episode reward: 83, episode step: 9\n",
            "epsiode : 81\n",
            "episode reward: 93, episode step: 8\n",
            "epsiode : 82\n",
            "episode reward: 83, episode step: 9\n",
            "epsiode : 83\n",
            "episode reward: 93, episode step: 8\n",
            "epsiode : 84\n",
            "episode reward: 93, episode step: 8\n",
            "epsiode : 85\n",
            "episode reward: 93, episode step: 8\n",
            "epsiode : 86\n",
            "episode reward: 93, episode step: 8\n",
            "epsiode : 87\n",
            "episode reward: 93, episode step: 8\n",
            "epsiode : 88\n",
            "episode reward: 93, episode step: 8\n",
            "epsiode : 89\n",
            "episode reward: 93, episode step: 8\n",
            "epsiode : 90\n",
            "episode reward: 93, episode step: 8\n",
            "epsiode : 91\n",
            "episode reward: 93, episode step: 8\n",
            "epsiode : 92\n",
            "episode reward: 93, episode step: 8\n",
            "epsiode : 93\n",
            "episode reward: 93, episode step: 8\n",
            "epsiode : 94\n",
            "episode reward: 93, episode step: 8\n",
            "epsiode : 95\n",
            "episode reward: 93, episode step: 8\n",
            "epsiode : 96\n",
            "episode reward: 93, episode step: 8\n",
            "epsiode : 97\n",
            "episode reward: 93, episode step: 8\n",
            "epsiode : 98\n",
            "episode reward: 93, episode step: 8\n",
            "epsiode : 99\n",
            "episode reward: 93, episode step: 8\n",
            "The average reward is: 26.78\n",
            "The average steps is: 21.66\n"
          ]
        },
        {
          "data": {
            "image/png": "[encoded data removed]",
            "text/plain": [
              "<Figure size 1000x500 with 2 Axes>"
            ]
          },
          "metadata": {},
          "output_type": "display_data"
        }
      ],
      "source": [
        "\n",
        "# Training the agent\n",
        "training_episode_count = 100\n",
        "train_agent(agent, maze, num_episodes=training_episode_count)\n"
      ]
    },
    {
      "cell_type": "code",
      "execution_count": 7,
      "metadata": {},
      "outputs": [
        {
          "name": "stdout",
          "output_type": "stream",
          "text": [
            "0,0 : [-10.8134     -11.34722299 -10.17446111  35.46936267]\n",
            "0,1 : [0. 0. 0. 0.]\n",
            "0,2 : [-10.94060318 -10.43435854 -10.23112361   8.43077519]\n",
            "0,3 : [0. 0. 0. 0.]\n",
            "1,0 : [ 44.07481379 -10.4577724   -1.34212326  -2.7803616 ]\n",
            "1,1 : [ 52.60283369   2.73322499 -10.78175172  -7.89080665]\n",
            "1,2 : [-1.3714445  -1.40133849 -1.78593354 61.10536231]\n",
            "1,3 : [-1.77300147  7.87735978 -9.60039906 -9.22694568]\n",
            "2,0 : [-10.92454679 -10.30897635  -2.74101644  -2.72003027]\n",
            "2,1 : [0. 0. 0. 0.]\n",
            "2,2 : [-0.53368168 -5.46578573 -0.35309086 69.79013483]\n",
            "2,3 : [0. 0. 0. 0.]\n",
            "3,0 : [ -7.45222503 -10.1424696   -2.67827451  -2.78848851]\n",
            "3,1 : [0. 0. 0. 0.]\n",
            "3,2 : [78.98238594 11.86117191  4.11709337  4.28461922]\n",
            "3,3 : [88.97571497 26.8116752  25.6885345  26.37395411]\n"
          ]
        }
      ],
      "source": [
        "for i in range(4):\n",
        "    for j in range(4):\n",
        "        print(f\"{i},{j} : {agent.q_table[i,j,:]}\")\n"
      ]
    },
    {
      "cell_type": "code",
      "execution_count": 8,
      "metadata": {
        "id": "0t9kcynWO1Hw"
      },
      "outputs": [
        {
          "name": "stdout",
          "output_type": "stream",
          "text": [
            "episode reward: 93, episode step: 8\n",
            "Learned Path:\n",
            "(0, 0)-> (1, 0)-> (1, 1)-> (1, 2)-> (2, 2)-> (3, 2)-> (3, 3)-> (3, 4)-> (4, 4)-> Goal!\n",
            "Number of steps: 8\n",
            "Total reward: 93\n"
          ]
        },
        {
          "data": {
            "text/plain": [
              "<Figure size 640x480 with 0 Axes>"
            ]
          },
          "metadata": {},
          "output_type": "display_data"
        },
        {
          "data": {
            "image/png": "[encoded data removed]",
            "text/plain": [
              "<Figure size 500x500 with 1 Axes>"
            ]
          },
          "metadata": {},
          "output_type": "display_data"
        },
        {
          "data": {
            "text/plain": [
              "(8, 93)"
            ]
          },
          "execution_count": 8,
          "metadata": {},
          "output_type": "execute_result"
        }
      ],
      "source": [
        "# Testing the agent after training\n",
        "test_agent(agent, maze, num_episodes=100, debug=False)"
      ]
    },
    {
      "cell_type": "code",
      "execution_count": 9,
      "metadata": {},
      "outputs": [
        {
          "name": "stdout",
          "output_type": "stream",
          "text": [
            "episode reward: -1995, episode step: 359\n",
            "Learned Path:\n",
            "(0, 0)-> (1, 0)-> (0, 0)-> (1, 0)-> (2, 0)-> (3, 0)-> (2, 0)-> (1, 0)-> (1, 1)-> (1, 0)-> (1, 1)-> (1, 0)-> (2, 0)-> (3, 0)-> (2, 0)-> (1, 0)-> (2, 0)-> (3, 0)-> (2, 0)-> (3, 0)-> (4, 0)-> (3, 0)-> (2, 0)-> (3, 0)-> (2, 0)-> (3, 0)-> (2, 0)-> (1, 0)-> (0, 0)-> (1, 0)-> (2, 0)-> (1, 0)-> (1, 1)-> (1, 0)-> (1, 1)-> (1, 2)-> (1, 1)-> (1, 0)-> (1, 1)-> (1, 0)-> (1, 1)-> (1, 0)-> (2, 0)-> (1, 0)-> (2, 0)-> (3, 0)-> (2, 0)-> (3, 0)-> (4, 0)-> (3, 0)-> (2, 0)-> (3, 0)-> (4, 0)-> (3, 0)-> (4, 0)-> (3, 0)-> (4, 0)-> (3, 0)-> (4, 0)-> (3, 0)-> (4, 0)-> (3, 0)-> (2, 0)-> (1, 0)-> (2, 0)-> (3, 0)-> (4, 0)-> (3, 0)-> (4, 0)-> (3, 0)-> (2, 0)-> (3, 0)-> (4, 0)-> (3, 0)-> (4, 0)-> (3, 0)-> (2, 0)-> (1, 0)-> (1, 1)-> (1, 0)-> (2, 0)-> (3, 0)-> (2, 0)-> (3, 0)-> (4, 0)-> (3, 0)-> (4, 0)-> (3, 0)-> (2, 0)-> (1, 0)-> (0, 0)-> (1, 0)-> (1, 1)-> (1, 2)-> (1, 3)-> (1, 4)-> (0, 4)-> (1, 4)-> (1, 3)-> (1, 4)-> (0, 4)-> (1, 4)-> (1, 3)-> (1, 2)-> (2, 2)-> (1, 2)-> (1, 1)-> (1, 0)-> (1, 1)-> (1, 2)-> (1, 1)-> (1, 0)-> (2, 0)-> (3, 0)-> (2, 0)-> (3, 0)-> (2, 0)-> (1, 0)-> (2, 0)-> (1, 0)-> (0, 0)-> (1, 0)-> (1, 1)-> (1, 2)-> (2, 2)-> (3, 2)-> (2, 2)-> (1, 2)-> (0, 2)-> (1, 2)-> (1, 3)-> (1, 4)-> (1, 3)-> (1, 2)-> (2, 2)-> (1, 2)-> (2, 2)-> (1, 2)-> (1, 3)-> (1, 2)-> (1, 1)-> (1, 0)-> (0, 0)-> (1, 0)-> (1, 1)-> (1, 2)-> (0, 2)-> (1, 2)-> (1, 1)-> (1, 2)-> (0, 2)-> (1, 2)-> (1, 3)-> (1, 4)-> (1, 3)-> (1, 4)-> (1, 3)-> (1, 4)-> (1, 3)-> (1, 4)-> (1, 3)-> (1, 2)-> (2, 2)-> (3, 2)-> (3, 3)-> (3, 4)-> (4, 4)-> Goal!\n",
            "Number of steps: 359\n",
            "Total reward: -1995\n"
          ]
        },
        {
          "data": {
            "text/plain": [
              "<Figure size 640x480 with 0 Axes>"
            ]
          },
          "metadata": {},
          "output_type": "display_data"
        },
        {
          "data": {
            "image/png": "[encoded data removed]",
            "text/plain": [
              "<Figure size 500x500 with 1 Axes>"
            ]
          },
          "metadata": {},
          "output_type": "display_data"
        },
        {
          "data": {
            "text/plain": [
              "(359, -1995)"
            ]
          },
          "execution_count": 9,
          "metadata": {},
          "output_type": "execute_result"
        }
      ],
      "source": [
        "new_agent = GeneralQLearningAgent(maze.get_actions)\n",
        "test_agent(new_agent, maze)\n",
        "\n"
      ]
    },
    {
      "cell_type": "code",
      "execution_count": 10,
      "metadata": {},
      "outputs": [
        {
          "name": "stdout",
          "output_type": "stream",
          "text": [
            "epsiode : 0\n",
            "episode reward: -931, episode step: 177\n",
            "epsiode : 1\n",
            "episode reward: -941, episode step: 178\n",
            "epsiode : 2\n",
            "episode reward: -927, episode step: 200\n",
            "epsiode : 3\n",
            "episode reward: -475, episode step: 135\n",
            "epsiode : 4\n",
            "episode reward: -231, episode step: 71\n",
            "epsiode : 5\n",
            "episode reward: -453, episode step: 122\n",
            "epsiode : 6\n",
            "episode reward: -355, episode step: 96\n",
            "epsiode : 7\n",
            "episode reward: -91, episode step: 48\n",
            "epsiode : 8\n",
            "episode reward: -47, episode step: 31\n",
            "epsiode : 9\n",
            "episode reward: -37, episode step: 39\n",
            "epsiode : 10\n",
            "episode reward: -45, episode step: 38\n",
            "epsiode : 11\n",
            "episode reward: -31, episode step: 42\n",
            "epsiode : 12\n",
            "episode reward: 57, episode step: 17\n",
            "epsiode : 13\n",
            "episode reward: -9, episode step: 38\n",
            "epsiode : 14\n",
            "episode reward: 63, episode step: 11\n",
            "epsiode : 15\n",
            "episode reward: 29, episode step: 18\n",
            "epsiode : 16\n",
            "episode reward: 39, episode step: 17\n",
            "epsiode : 17\n",
            "episode reward: -7, episode step: 36\n",
            "epsiode : 18\n",
            "episode reward: 67, episode step: 16\n",
            "epsiode : 19\n",
            "episode reward: 71, episode step: 12\n",
            "epsiode : 20\n",
            "episode reward: 69, episode step: 14\n",
            "epsiode : 21\n",
            "episode reward: 47, episode step: 18\n",
            "epsiode : 22\n",
            "episode reward: 83, episode step: 9\n",
            "epsiode : 23\n",
            "episode reward: 73, episode step: 10\n",
            "epsiode : 24\n",
            "episode reward: -1, episode step: 39\n",
            "epsiode : 25\n",
            "episode reward: 91, episode step: 10\n",
            "epsiode : 26\n",
            "episode reward: 83, episode step: 9\n",
            "epsiode : 27\n",
            "episode reward: 83, episode step: 9\n",
            "epsiode : 28\n",
            "episode reward: 87, episode step: 14\n",
            "epsiode : 29\n",
            "episode reward: 93, episode step: 8\n",
            "epsiode : 30\n",
            "episode reward: 67, episode step: 16\n",
            "epsiode : 31\n",
            "episode reward: 83, episode step: 9\n",
            "epsiode : 32\n",
            "episode reward: 71, episode step: 12\n",
            "epsiode : 33\n",
            "episode reward: 63, episode step: 11\n",
            "epsiode : 34\n",
            "episode reward: 83, episode step: 9\n",
            "epsiode : 35\n",
            "episode reward: 61, episode step: 13\n",
            "epsiode : 36\n",
            "episode reward: 81, episode step: 11\n",
            "epsiode : 37\n",
            "episode reward: 65, episode step: 18\n",
            "epsiode : 38\n",
            "episode reward: 91, episode step: 10\n",
            "epsiode : 39\n",
            "episode reward: 63, episode step: 11\n",
            "epsiode : 40\n",
            "episode reward: 91, episode step: 10\n",
            "epsiode : 41\n",
            "episode reward: 91, episode step: 10\n",
            "epsiode : 42\n",
            "episode reward: 93, episode step: 8\n",
            "epsiode : 43\n",
            "episode reward: 93, episode step: 8\n",
            "epsiode : 44\n",
            "episode reward: 83, episode step: 9\n",
            "epsiode : 45\n",
            "episode reward: 73, episode step: 10\n",
            "epsiode : 46\n",
            "episode reward: 93, episode step: 8\n",
            "epsiode : 47\n",
            "episode reward: 83, episode step: 9\n",
            "epsiode : 48\n",
            "episode reward: 73, episode step: 10\n",
            "epsiode : 49\n",
            "episode reward: 73, episode step: 10\n",
            "epsiode : 50\n",
            "episode reward: 93, episode step: 8\n",
            "epsiode : 51\n",
            "episode reward: 93, episode step: 8\n",
            "epsiode : 52\n",
            "episode reward: 93, episode step: 8\n",
            "epsiode : 53\n",
            "episode reward: 93, episode step: 8\n",
            "epsiode : 54\n",
            "episode reward: 93, episode step: 8\n",
            "epsiode : 55\n",
            "episode reward: 93, episode step: 8\n",
            "epsiode : 56\n",
            "episode reward: 93, episode step: 8\n",
            "epsiode : 57\n",
            "episode reward: 93, episode step: 8\n",
            "epsiode : 58\n",
            "episode reward: 93, episode step: 8\n",
            "epsiode : 59\n",
            "episode reward: 93, episode step: 8\n",
            "epsiode : 60\n",
            "episode reward: 73, episode step: 10\n",
            "epsiode : 61\n",
            "episode reward: 93, episode step: 8\n",
            "epsiode : 62\n",
            "episode reward: 93, episode step: 8\n",
            "epsiode : 63\n",
            "episode reward: 83, episode step: 9\n",
            "epsiode : 64\n",
            "episode reward: 93, episode step: 8\n",
            "epsiode : 65\n",
            "episode reward: 93, episode step: 8\n",
            "epsiode : 66\n",
            "episode reward: 81, episode step: 11\n",
            "epsiode : 67\n",
            "episode reward: 93, episode step: 8\n",
            "epsiode : 68\n",
            "episode reward: 93, episode step: 8\n",
            "epsiode : 69\n",
            "episode reward: 91, episode step: 10\n",
            "epsiode : 70\n",
            "episode reward: 93, episode step: 8\n",
            "epsiode : 71\n",
            "episode reward: 93, episode step: 8\n",
            "epsiode : 72\n",
            "episode reward: 81, episode step: 11\n",
            "epsiode : 73\n",
            "episode reward: 93, episode step: 8\n",
            "epsiode : 74\n",
            "episode reward: 93, episode step: 8\n",
            "epsiode : 75\n",
            "episode reward: 93, episode step: 8\n",
            "epsiode : 76\n",
            "episode reward: 93, episode step: 8\n",
            "epsiode : 77\n",
            "episode reward: 93, episode step: 8\n",
            "epsiode : 78\n",
            "episode reward: 93, episode step: 8\n",
            "epsiode : 79\n",
            "episode reward: 93, episode step: 8\n",
            "epsiode : 80\n",
            "episode reward: 93, episode step: 8\n",
            "epsiode : 81\n",
            "episode reward: 93, episode step: 8\n",
            "epsiode : 82\n",
            "episode reward: 93, episode step: 8\n",
            "epsiode : 83\n",
            "episode reward: 93, episode step: 8\n",
            "epsiode : 84\n",
            "episode reward: 93, episode step: 8\n",
            "epsiode : 85\n",
            "episode reward: 93, episode step: 8\n",
            "epsiode : 86\n",
            "episode reward: 93, episode step: 8\n",
            "epsiode : 87\n",
            "episode reward: 93, episode step: 8\n",
            "epsiode : 88\n",
            "episode reward: 93, episode step: 8\n",
            "epsiode : 89\n",
            "episode reward: 93, episode step: 8\n",
            "epsiode : 90\n",
            "episode reward: 93, episode step: 8\n",
            "epsiode : 91\n",
            "episode reward: 93, episode step: 8\n",
            "epsiode : 92\n",
            "episode reward: 93, episode step: 8\n",
            "epsiode : 93\n",
            "episode reward: 93, episode step: 8\n",
            "epsiode : 94\n",
            "episode reward: 93, episode step: 8\n",
            "epsiode : 95\n",
            "episode reward: 93, episode step: 8\n",
            "epsiode : 96\n",
            "episode reward: 93, episode step: 8\n",
            "epsiode : 97\n",
            "episode reward: 93, episode step: 8\n",
            "epsiode : 98\n",
            "episode reward: 93, episode step: 8\n",
            "epsiode : 99\n",
            "episode reward: 93, episode step: 8\n",
            "The average reward is: 26.22\n",
            "The average steps is: 21.05\n"
          ]
        },
        {
          "data": {
            "image/png": "[encoded data removed]",
            "text/plain": [
              "<Figure size 1000x500 with 2 Axes>"
            ]
          },
          "metadata": {},
          "output_type": "display_data"
        },
        {
          "name": "stdout",
          "output_type": "stream",
          "text": [
            "episode reward: 93, episode step: 8\n",
            "Learned Path:\n",
            "(0, 0)-> (1, 0)-> (1, 1)-> (1, 2)-> (2, 2)-> (3, 2)-> (3, 3)-> (3, 4)-> (4, 4)-> Goal!\n",
            "Number of steps: 8\n",
            "Total reward: 93\n"
          ]
        },
        {
          "data": {
            "text/plain": [
              "<Figure size 640x480 with 0 Axes>"
            ]
          },
          "metadata": {},
          "output_type": "display_data"
        },
        {
          "data": {
            "image/png": "[encoded data removed]",
            "text/plain": [
              "<Figure size 500x500 with 1 Axes>"
            ]
          },
          "metadata": {},
          "output_type": "display_data"
        },
        {
          "data": {
            "text/plain": [
              "(8, 93)"
            ]
          },
          "execution_count": 10,
          "metadata": {},
          "output_type": "execute_result"
        }
      ],
      "source": [
        "train_agent(new_agent, maze, num_episodes=training_episode_count)\n",
        "test_agent(new_agent, maze, num_episodes=training_episode_count)"
      ]
    },
    {
      "cell_type": "code",
      "execution_count": 11,
      "metadata": {},
      "outputs": [
        {
          "data": {
            "text/plain": [
              "{(('position', (0, 0)),): {np.str_('left'): -11.369388082771687,\n",
              "  np.str_('right'): 34.084893384143335,\n",
              "  np.str_('up'): -9.667781955957944,\n",
              "  np.str_('down'): -10.176833368238864},\n",
              " (('position', (1, 0)),): {np.str_('down'): 43.13475401732354,\n",
              "  np.str_('right'): -2.8556701184840083,\n",
              "  np.str_('up'): -8.51237582977132,\n",
              "  np.str_('left'): -3.2688963218295535},\n",
              " (('position', (1, 1)),): {np.str_('up'): -2.617176077020731,\n",
              "  np.str_('down'): 52.04829364321247,\n",
              "  np.str_('right'): -9.899162657063986,\n",
              "  np.str_('left'): -8.530429389307773},\n",
              " (('position', (2, 0)),): {np.str_('left'): 0.3214733004667647,\n",
              "  np.str_('up'): -11.020425147250876,\n",
              "  np.str_('right'): -2.8024695511598137,\n",
              "  np.str_('down'): -10.07362035114124},\n",
              " (('position', (3, 0)),): {np.str_('left'): -2.8260207542926947,\n",
              "  np.str_('up'): -10.132914094055629,\n",
              "  np.str_('down'): -10.611140154882182,\n",
              "  np.str_('right'): -2.7612368978884714},\n",
              " (('position', (4, 0)),): {np.str_('left'): -2.76819059241005,\n",
              "  np.str_('down'): -10.101149183994808,\n",
              "  np.str_('up'): -10.271652612780692,\n",
              "  np.str_('right'): -9.616102895004428},\n",
              " (('position', (1, 2)),): {np.str_('right'): 60.82929010574881,\n",
              "  np.str_('left'): -2.014645408586775,\n",
              "  np.str_('up'): 2.544125378501931,\n",
              "  np.str_('down'): -1.7750622231148765},\n",
              " (('position', (2, 2)),): {np.str_('up'): -2.4372926936251216,\n",
              "  np.str_('right'): 69.69499580483142,\n",
              "  np.str_('left'): 1.2273279628865406,\n",
              "  np.str_('down'): 9.283368937897567},\n",
              " (('position', (3, 2)),): {np.str_('up'): 17.026499794472443,\n",
              "  np.str_('left'): 4.5592485643632,\n",
              "  np.str_('down'): 78.95988007385826,\n",
              "  np.str_('right'): 1.6056111848965464},\n",
              " (('position', (3, 3)),): {np.str_('left'): 22.46773927337145,\n",
              "  np.str_('down'): 88.97215624599166,\n",
              "  np.str_('up'): 13.566449799674205,\n",
              "  np.str_('right'): 23.799749301064395},\n",
              " (('position', (3, 4)),): {np.str_('right'): 99.99734386011123,\n",
              "  np.str_('left'): 25.306112901624733,\n",
              "  np.str_('down'): 19.637497865260528,\n",
              "  np.str_('up'): 10.625171319002545},\n",
              " (('position', (4, 4)),): {},\n",
              " (('position', (0, 2)),): {np.str_('down'): -7.251360189389404,\n",
              "  np.str_('left'): -8.056137065234436,\n",
              "  np.str_('up'): -9.379251973436029,\n",
              "  np.str_('right'): -1.675224490095146},\n",
              " (('position', (4, 2)),): {np.str_('down'): -8.439172326095873,\n",
              "  np.str_('up'): -8.675136654212245,\n",
              "  np.str_('right'): -8.363770372965266,\n",
              "  np.str_('left'): 17.21529779436273},\n",
              " (('position', (1, 3)),): {np.str_('down'): -1.8148820143916327,\n",
              "  np.str_('right'): -7.545265179875011,\n",
              "  np.str_('up'): 0.1528632992743304,\n",
              "  np.str_('left'): -7.747905360747872},\n",
              " (('position', (1, 4)),): {np.str_('left'): -1.9284502354567943,\n",
              "  np.str_('right'): -9.03099789033845,\n",
              "  np.str_('up'): -1.9297217101360995,\n",
              "  np.str_('down'): -9.593779411606315},\n",
              " (('position', (0, 4)),): {np.str_('up'): -8.211992271567222,\n",
              "  np.str_('left'): -8.052812242841723,\n",
              "  np.str_('down'): -4.583957064225073,\n",
              "  np.str_('right'): -1.9532592276662688}}"
            ]
          },
          "execution_count": 11,
          "metadata": {},
          "output_type": "execute_result"
        }
      ],
      "source": [
        "new_agent.q_table"
      ]
    },
    {
      "cell_type": "code",
      "execution_count": 12,
      "metadata": {},
      "outputs": [],
      "source": [
        "from maze import KeyMaze"
      ]
    },
    {
      "cell_type": "code",
      "execution_count": 13,
      "metadata": {},
      "outputs": [
        {
          "name": "stdout",
          "output_type": "stream",
          "text": [
            "GOT THE KEY!\n",
            "Goal with key!\n",
            "episode reward: -7699.0, episode step: 1476\n",
            "Learned Path:\n",
            "(0, 0)-> (1, 0)-> (2, 0)-> (1, 0)-> (0, 0)-> (1, 0)-> (0, 0)-> (1, 0)-> (2, 0)-> (3, 0)-> (4, 0)-> (3, 0)-> (4, 0)-> (3, 0)-> (2, 0)-> (3, 0)-> (4, 0)-> (3, 0)-> (4, 0)-> (3, 0)-> (4, 0)-> (3, 0)-> (2, 0)-> (3, 0)-> (4, 0)-> (3, 0)-> (2, 0)-> (1, 0)-> (1, 1)-> (1, 0)-> (1, 1)-> (1, 2)-> (0, 2)-> (1, 2)-> (1, 1)-> (1, 2)-> (0, 2)-> (1, 2)-> (1, 3)-> (1, 4)-> (1, 3)-> (1, 2)-> (1, 1)-> (1, 0)-> (2, 0)-> (3, 0)-> (2, 0)-> (3, 0)-> (4, 0)-> (3, 0)-> (4, 0)-> (3, 0)-> (2, 0)-> (3, 0)-> (2, 0)-> (3, 0)-> (2, 0)-> (1, 0)-> (1, 1)-> (1, 0)-> (1, 1)-> (1, 2)-> (1, 1)-> (1, 2)-> (2, 2)-> (3, 2)-> (2, 2)-> (3, 2)-> (4, 2)-> (3, 2)-> (3, 3)-> (3, 2)-> (3, 3)-> (3, 2)-> (3, 3)-> (3, 4)-> (4, 4)-> (4, 4)-> (4, 4)-> (4, 4)-> (4, 4)-> (3, 4)-> (3, 3)-> (3, 4)-> (3, 3)-> (3, 2)-> (4, 2)-> (3, 2)-> (4, 2)-> (3, 2)-> (3, 3)-> (3, 2)-> (3, 3)-> (3, 4)-> (4, 4)-> (4, 4)-> (4, 4)-> (3, 4)-> (4, 4)-> (4, 4)-> (4, 4)-> (4, 4)-> (4, 4)-> (4, 4)-> (4, 4)-> (4, 4)-> (3, 4)-> (4, 4)-> (4, 4)-> (4, 4)-> (4, 4)-> (3, 4)-> (4, 4)-> (4, 4)-> (4, 4)-> (4, 4)-> (4, 4)-> (3, 4)-> (3, 3)-> (3, 4)-> (4, 4)-> (4, 4)-> (4, 4)-> (4, 4)-> (4, 4)-> (4, 4)-> (4, 4)-> (4, 4)-> (4, 4)-> (4, 4)-> (4, 4)-> (4, 4)-> (4, 4)-> (4, 4)-> (4, 4)-> (4, 4)-> (4, 4)-> (4, 4)-> (4, 4)-> (4, 4)-> (4, 4)-> (4, 4)-> (3, 4)-> (3, 3)-> (3, 2)-> (2, 2)-> (1, 2)-> (1, 1)-> (1, 2)-> (0, 2)-> (1, 2)-> (0, 2)-> (1, 2)-> (2, 2)-> (3, 2)-> (4, 2)-> (3, 2)-> (3, 3)-> (3, 4)-> (4, 4)-> (3, 4)-> (3, 3)-> (3, 4)-> (4, 4)-> (3, 4)-> (3, 3)-> (3, 2)-> (4, 2)-> (3, 2)-> (4, 2)-> (3, 2)-> (2, 2)-> (3, 2)-> (4, 2)-> (3, 2)-> (4, 2)-> (3, 2)-> (4, 2)-> (3, 2)-> (2, 2)-> (3, 2)-> (4, 2)-> (3, 2)-> (3, 3)-> (3, 4)-> (3, 3)-> (3, 2)-> (2, 2)-> (1, 2)-> (1, 3)-> (1, 2)-> (0, 2)-> (1, 2)-> (1, 1)-> (1, 0)-> (2, 0)-> (1, 0)-> (1, 1)-> (1, 0)-> (0, 0)-> (1, 0)-> (2, 0)-> (1, 0)-> (1, 1)-> (1, 0)-> (0, 0)-> (1, 0)-> (2, 0)-> (3, 0)-> (4, 0)-> (3, 0)-> (2, 0)-> (1, 0)-> (2, 0)-> (1, 0)-> (2, 0)-> (1, 0)-> (0, 0)-> (1, 0)-> (2, 0)-> (1, 0)-> (2, 0)-> (1, 0)-> (1, 1)-> (1, 0)-> (2, 0)-> (1, 0)-> (0, 0)-> (1, 0)-> (1, 1)-> (1, 2)-> (1, 3)-> (1, 4)-> (1, 3)-> (1, 2)-> (1, 1)-> (1, 2)-> (0, 2)-> (1, 2)-> (0, 2)-> (1, 2)-> (2, 2)-> (3, 2)-> (4, 2)-> (3, 2)-> (3, 3)-> (3, 2)-> (3, 3)-> (3, 4)-> (3, 3)-> (3, 2)-> (3, 3)-> (3, 4)-> (3, 3)-> (3, 4)-> (4, 4)-> (3, 4)-> (4, 4)-> (4, 4)-> (4, 4)-> (4, 4)-> (4, 4)-> (4, 4)-> (4, 4)-> (4, 4)-> (4, 4)-> (3, 4)-> (4, 4)-> (4, 4)-> (4, 4)-> (4, 4)-> (4, 4)-> (4, 4)-> (4, 4)-> (4, 4)-> (4, 4)-> (4, 4)-> (4, 4)-> (3, 4)-> (3, 3)-> (3, 4)-> (4, 4)-> (4, 4)-> (4, 4)-> (4, 4)-> (3, 4)-> (3, 3)-> (3, 4)-> (4, 4)-> (4, 4)-> (4, 4)-> (3, 4)-> (3, 3)-> (3, 2)-> (3, 3)-> (3, 2)-> (2, 2)-> (1, 2)-> (2, 2)-> (1, 2)-> (1, 3)-> (1, 4)-> (1, 3)-> (1, 2)-> (1, 1)-> (1, 0)-> (0, 0)-> (1, 0)-> (0, 0)-> (1, 0)-> (2, 0)-> (3, 0)-> (2, 0)-> (3, 0)-> (2, 0)-> (1, 0)-> (2, 0)-> (1, 0)-> (1, 1)-> (1, 0)-> (2, 0)-> (1, 0)-> (2, 0)-> (3, 0)-> (4, 0)-> (3, 0)-> (2, 0)-> (1, 0)-> (1, 1)-> (1, 0)-> (2, 0)-> (3, 0)-> (4, 0)-> (3, 0)-> (4, 0)-> (3, 0)-> (4, 0)-> (3, 0)-> (4, 0)-> (3, 0)-> (2, 0)-> (1, 0)-> (1, 1)-> (1, 0)-> (0, 0)-> (1, 0)-> (2, 0)-> (3, 0)-> (2, 0)-> (3, 0)-> (2, 0)-> (1, 0)-> (0, 0)-> (1, 0)-> (2, 0)-> (3, 0)-> (2, 0)-> (1, 0)-> (1, 1)-> (1, 0)-> (0, 0)-> (1, 0)-> (0, 0)-> (1, 0)-> (2, 0)-> (1, 0)-> (2, 0)-> (1, 0)-> (0, 0)-> (1, 0)-> (0, 0)-> (1, 0)-> (1, 1)-> (1, 0)-> (1, 1)-> (1, 0)-> (1, 1)-> (1, 2)-> (2, 2)-> (1, 2)-> (0, 2)-> (1, 2)-> (1, 3)-> (1, 4)-> (1, 3)-> (1, 4)-> (1, 3)-> (1, 4)-> (1, 3)-> (1, 2)-> (0, 2)-> (1, 2)-> (1, 1)-> (1, 2)-> (1, 1)-> (1, 0)-> (0, 0)-> (1, 0)-> (2, 0)-> (3, 0)-> (4, 0)-> (3, 0)-> (4, 0)-> (3, 0)-> (2, 0)-> (3, 0)-> (2, 0)-> (3, 0)-> (2, 0)-> (3, 0)-> (2, 0)-> (1, 0)-> (0, 0)-> (1, 0)-> (1, 1)-> (1, 0)-> (1, 1)-> (1, 2)-> (0, 2)-> (1, 2)-> (1, 1)-> (1, 0)-> (1, 1)-> (1, 0)-> (0, 0)-> (1, 0)-> (2, 0)-> (3, 0)-> (4, 0)-> (3, 0)-> (2, 0)-> (3, 0)-> (4, 0)-> (3, 0)-> (4, 0)-> (3, 0)-> (2, 0)-> (3, 0)-> (2, 0)-> (3, 0)-> (4, 0)-> (3, 0)-> (4, 0)-> (3, 0)-> (4, 0)-> (3, 0)-> (2, 0)-> (1, 0)-> (0, 0)-> (1, 0)-> (0, 0)-> (1, 0)-> (2, 0)-> (1, 0)-> (1, 1)-> (1, 0)-> (0, 0)-> (1, 0)-> (1, 1)-> (1, 2)-> (0, 2)-> (1, 2)-> (0, 2)-> (1, 2)-> (1, 3)-> (1, 4)-> (1, 3)-> (1, 4)-> (0, 4)-> (0, 4)-> (1, 4)-> (1, 3)-> (1, 4)-> (1, 3)-> (1, 4)-> (1, 3)-> (1, 2)-> (0, 2)-> (1, 2)-> (0, 2)-> (1, 2)-> (1, 1)-> (1, 0)-> (1, 1)-> (1, 2)-> (2, 2)-> (1, 2)-> (1, 3)-> (1, 4)-> (1, 3)-> (1, 2)-> (2, 2)-> (1, 2)-> (1, 1)-> (1, 0)-> (1, 1)-> (1, 2)-> (0, 2)-> (1, 2)-> (2, 2)-> (1, 2)-> (1, 3)-> (1, 2)-> (0, 2)-> (1, 2)-> (1, 3)-> (1, 4)-> (1, 3)-> (1, 4)-> (0, 4)-> (0, 4)-> (0, 4)-> (1, 4)-> (1, 3)-> (1, 4)-> (1, 3)-> (1, 2)-> (1, 1)-> (1, 0)-> (2, 0)-> (3, 0)-> (4, 0)-> (3, 0)-> (4, 0)-> (3, 0)-> (4, 0)-> (3, 0)-> (4, 0)-> (3, 0)-> (2, 0)-> (1, 0)-> (1, 1)-> (1, 2)-> (1, 1)-> (1, 2)-> (0, 2)-> (1, 2)-> (1, 1)-> (1, 0)-> (2, 0)-> (3, 0)-> (2, 0)-> (3, 0)-> (4, 0)-> (3, 0)-> (2, 0)-> (3, 0)-> (4, 0)-> (3, 0)-> (4, 0)-> (3, 0)-> (2, 0)-> (1, 0)-> (2, 0)-> (3, 0)-> (4, 0)-> (3, 0)-> (2, 0)-> (3, 0)-> (2, 0)-> (1, 0)-> (2, 0)-> (3, 0)-> (2, 0)-> (3, 0)-> (4, 0)-> (3, 0)-> (2, 0)-> (3, 0)-> (4, 0)-> (3, 0)-> (2, 0)-> (1, 0)-> (0, 0)-> (1, 0)-> (2, 0)-> (1, 0)-> (1, 1)-> (1, 2)-> (0, 2)-> (1, 2)-> (1, 1)-> (1, 0)-> (1, 1)-> (1, 0)-> (1, 1)-> (1, 0)-> (1, 1)-> (1, 2)-> (1, 1)-> (1, 2)-> (1, 1)-> (1, 2)-> (1, 3)-> (1, 4)-> (0, 4)-> (0, 4)-> (0, 4)-> (0, 4)-> (0, 4)-> (0, 4)-> (0, 4)-> (0, 4)-> (0, 4)-> (0, 4)-> (0, 4)-> (1, 4)-> (1, 3)-> (1, 4)-> (0, 4)-> (0, 4)-> (0, 4)-> (0, 4)-> (0, 4)-> (0, 4)-> (1, 4)-> (0, 4)-> (0, 4)-> (0, 4)-> (0, 4)-> (0, 4)-> (1, 4)-> (1, 3)-> (1, 2)-> (0, 2)-> (1, 2)-> (0, 2)-> (1, 2)-> (1, 3)-> (1, 2)-> (1, 1)-> (1, 0)-> (2, 0)-> (3, 0)-> (2, 0)-> (3, 0)-> (2, 0)-> (1, 0)-> (2, 0)-> (3, 0)-> (2, 0)-> (1, 0)-> (2, 0)-> (3, 0)-> (4, 0)-> (3, 0)-> (2, 0)-> (1, 0)-> (1, 1)-> (1, 2)-> (1, 1)-> (1, 0)-> (2, 0)-> (1, 0)-> (1, 1)-> (1, 2)-> (1, 3)-> (1, 2)-> (0, 2)-> (1, 2)-> (2, 2)-> (1, 2)-> (1, 3)-> (1, 4)-> (1, 3)-> (1, 4)-> (0, 4)-> (0, 4)-> (0, 4)-> (0, 4)-> (0, 4)-> (0, 4)-> (1, 4)-> (1, 3)-> (1, 4)-> (1, 3)-> (1, 2)-> (0, 2)-> (1, 2)-> (1, 3)-> (1, 2)-> (0, 2)-> (1, 2)-> (1, 3)-> (1, 4)-> (0, 4)-> (0, 4)-> (0, 4)-> (1, 4)-> (1, 3)-> (1, 4)-> (1, 3)-> (1, 2)-> (0, 2)-> (1, 2)-> (1, 3)-> (1, 2)-> (0, 2)-> (1, 2)-> (1, 1)-> (1, 0)-> (1, 1)-> (1, 0)-> (1, 1)-> (1, 0)-> (1, 1)-> (1, 2)-> (2, 2)-> (1, 2)-> (2, 2)-> (1, 2)-> (1, 1)-> (1, 0)-> (0, 0)-> (1, 0)-> (1, 1)-> (1, 2)-> (1, 1)-> (1, 2)-> (1, 3)-> (1, 2)-> (0, 2)-> (1, 2)-> (1, 1)-> (1, 2)-> (1, 3)-> (1, 4)-> (1, 3)-> (1, 4)-> (0, 4)-> (0, 4)-> (0, 4)-> (1, 4)-> (1, 3)-> (1, 4)-> (1, 3)-> (1, 2)-> (1, 1)-> (1, 0)-> (1, 1)-> (1, 2)-> (2, 2)-> (1, 2)-> (2, 2)-> (1, 2)-> (0, 2)-> (1, 2)-> (2, 2)-> (1, 2)-> (2, 2)-> (1, 2)-> (1, 1)-> (1, 2)-> (0, 2)-> (1, 2)-> (1, 1)-> (1, 2)-> (2, 2)-> (1, 2)-> (2, 2)-> (1, 2)-> (2, 2)-> (3, 2)-> (3, 3)-> (3, 2)-> (3, 3)-> (3, 4)-> (3, 3)-> (3, 4)-> (4, 4)-> Goal!\n",
            "Number of steps: 1476\n",
            "Total reward: -7699.0\n"
          ]
        },
        {
          "data": {
            "text/plain": [
              "<Figure size 640x480 with 0 Axes>"
            ]
          },
          "metadata": {},
          "output_type": "display_data"
        },
        {
          "data": {
            "image/png": "[encoded data removed]",
            "text/plain": [
              "<Figure size 500x500 with 1 Axes>"
            ]
          },
          "metadata": {},
          "output_type": "display_data"
        },
        {
          "name": "stdout",
          "output_type": "stream",
          "text": [
            "epsiode : 0\n",
            "Goal with key!\n",
            "episode reward: -3136.0, episode step: 660\n",
            "epsiode : 1\n",
            "Goal with key!\n",
            "episode reward: -1588.0, episode step: 350\n",
            "epsiode : 2\n",
            "Goal with key!\n",
            "episode reward: -1449, episode step: 263\n",
            "epsiode : 3\n",
            "Goal with key!\n",
            "episode reward: -139, episode step: 60\n",
            "epsiode : 4\n",
            "Goal with key!\n",
            "episode reward: -1275.0, episode step: 429\n",
            "epsiode : 5\n",
            "Goal with key!\n",
            "episode reward: -487, episode step: 129\n",
            "epsiode : 6\n",
            "Goal with key!\n",
            "episode reward: -559.0, episode step: 241\n",
            "epsiode : 7\n",
            "Goal with key!\n",
            "episode reward: -887.0, episode step: 243\n",
            "epsiode : 8\n",
            "Goal with key!\n",
            "episode reward: -107.0, episode step: 80\n",
            "epsiode : 9\n",
            "Goal with key!\n",
            "episode reward: -420.0, episode step: 199\n",
            "epsiode : 10\n",
            "Goal with key!\n",
            "episode reward: -447, episode step: 170\n",
            "epsiode : 11\n",
            "Goal with key!\n",
            "episode reward: -482.0, episode step: 219\n",
            "epsiode : 12\n",
            "Goal with key!\n",
            "episode reward: -113, episode step: 70\n",
            "epsiode : 13\n",
            "Goal with key!\n",
            "episode reward: -885.0, episode step: 591\n",
            "epsiode : 14\n",
            "Goal with key!\n",
            "episode reward: -7, episode step: 36\n",
            "epsiode : 15\n",
            "Goal with key!\n",
            "episode reward: -847.0, episode step: 797\n",
            "epsiode : 16\n",
            "Goal with key!\n",
            "episode reward: -403.0, episode step: 216\n",
            "epsiode : 17\n",
            "Goal with key!\n",
            "episode reward: -137, episode step: 76\n",
            "epsiode : 18\n",
            "Goal with key!\n",
            "episode reward: -390.0, episode step: 388\n",
            "epsiode : 19\n",
            "Goal with key!\n",
            "episode reward: -456.0, episode step: 687\n",
            "epsiode : 20\n",
            "Goal with key!\n",
            "episode reward: -106.0, episode step: 158\n",
            "epsiode : 21\n",
            "Goal with key!\n",
            "episode reward: -701.0, episode step: 1279\n",
            "epsiode : 22\n",
            "Goal with key!\n",
            "episode reward: -325.0, episode step: 395\n",
            "epsiode : 23\n",
            "Goal with key!\n",
            "episode reward: -195.0, episode step: 321\n",
            "epsiode : 24\n",
            "Goal with key!\n",
            "episode reward: -438.0, episode step: 901\n",
            "epsiode : 25\n",
            "Goal with key!\n",
            "episode reward: -290.0, episode step: 615\n",
            "epsiode : 26\n",
            "Goal with key!\n",
            "episode reward: -848.0, episode step: 2131\n",
            "epsiode : 27\n",
            "Goal with key!\n",
            "episode reward: -170.0, episode step: 524\n",
            "epsiode : 28\n",
            "Goal with key!\n",
            "episode reward: -126.0, episode step: 161\n",
            "epsiode : 29\n",
            "Goal with key!\n",
            "episode reward: -68.0, episode step: 213\n",
            "epsiode : 30\n",
            "Goal with key!\n",
            "episode reward: -397.0, episode step: 643\n",
            "epsiode : 31\n",
            "Goal with key!\n",
            "episode reward: -29.0, episode step: 291\n",
            "epsiode : 32\n",
            "Goal with key!\n",
            "episode reward: -436.0, episode step: 2262\n",
            "epsiode : 33\n",
            "Goal with key!\n",
            "episode reward: -136.0, episode step: 218\n",
            "epsiode : 34\n",
            "Goal with key!\n",
            "episode reward: -302.0, episode step: 1252\n",
            "epsiode : 35\n",
            "Goal with key!\n",
            "episode reward: -20.0, episode step: 247\n",
            "epsiode : 36\n",
            "Goal with key!\n",
            "episode reward: -584.0, episode step: 3707\n",
            "epsiode : 37\n",
            "Goal with key!\n",
            "episode reward: -200.0, episode step: 1740\n",
            "epsiode : 38\n",
            "Goal with key!\n",
            "episode reward: -305.0, episode step: 3279\n",
            "epsiode : 39\n",
            "Goal with key!\n",
            "episode reward: -147.0, episode step: 1408\n",
            "epsiode : 40\n",
            "Goal with key!\n",
            "episode reward: -558.0, episode step: 4661\n",
            "epsiode : 41\n",
            "Goal with key!\n",
            "episode reward: -223.0, episode step: 2187\n",
            "epsiode : 42\n",
            "Goal with key!\n",
            "episode reward: -272.0, episode step: 2756\n",
            "epsiode : 43\n",
            "Goal with key!\n",
            "episode reward: -148.0, episode step: 3183\n",
            "epsiode : 44\n",
            "Goal with key!\n",
            "episode reward: -425.0, episode step: 4947\n",
            "epsiode : 45\n",
            "Goal with key!\n",
            "episode reward: -256.0, episode step: 4185\n",
            "epsiode : 46\n",
            "Goal with key!\n",
            "episode reward: -299.0, episode step: 3533\n",
            "epsiode : 47\n",
            "Goal with key!\n",
            "episode reward: -410.0, episode step: 7070\n",
            "epsiode : 48\n",
            "Goal with key!\n",
            "episode reward: -642.0, episode step: 15116\n",
            "epsiode : 49\n",
            "Goal with key!\n",
            "episode reward: 71, episode step: 30\n",
            "epsiode : 50\n",
            "Goal with key!\n",
            "episode reward: -341.0, episode step: 6345\n",
            "epsiode : 51\n",
            "Goal with key!\n",
            "episode reward: -147.0, episode step: 4563\n",
            "epsiode : 52\n",
            "Goal with key!\n",
            "episode reward: -334.0, episode step: 7258\n",
            "epsiode : 53\n",
            "Goal with key!\n",
            "episode reward: -226.0, episode step: 6353\n",
            "epsiode : 54\n",
            "Goal with key!\n",
            "episode reward: -755.0, episode step: 22187\n",
            "epsiode : 55\n",
            "Goal with key!\n",
            "episode reward: -182.0, episode step: 7679\n",
            "epsiode : 56\n",
            "Goal with key!\n",
            "episode reward: -514.0, episode step: 18929\n",
            "epsiode : 57\n",
            "Goal with key!\n",
            "episode reward: -466.0, episode step: 11904\n",
            "epsiode : 58\n",
            "Goal with key!\n",
            "episode reward: -743.0, episode step: 30716\n",
            "epsiode : 59\n",
            "Goal with key!\n",
            "episode reward: -601.0, episode step: 26977\n",
            "epsiode : 60\n",
            "Goal with key!\n",
            "episode reward: -36.0, episode step: 3559\n",
            "epsiode : 61\n",
            "Goal with key!\n",
            "episode reward: -429.0, episode step: 17148\n",
            "epsiode : 62\n",
            "Goal with key!\n",
            "episode reward: -112.0, episode step: 9202\n",
            "epsiode : 63\n",
            "Goal with key!\n",
            "episode reward: -392.0, episode step: 16066\n",
            "epsiode : 64\n",
            "Goal with key!\n",
            "episode reward: -611.0, episode step: 37225\n",
            "epsiode : 65\n",
            "Goal with key!\n",
            "episode reward: -205.0, episode step: 10882\n",
            "epsiode : 66\n",
            "Goal with key!\n",
            "episode reward: -301.0, episode step: 23215\n",
            "epsiode : 67\n",
            "Goal with key!\n",
            "episode reward: -366.0, episode step: 23471\n",
            "epsiode : 68\n",
            "Goal with key!\n",
            "episode reward: -107.0, episode step: 13111\n",
            "epsiode : 69\n",
            "Goal with key!\n",
            "episode reward: -92.0, episode step: 10621\n",
            "epsiode : 70\n",
            "Goal with key!\n",
            "episode reward: -316.0, episode step: 23290\n",
            "epsiode : 71\n",
            "Goal with key!\n",
            "episode reward: -260.0, episode step: 30881\n",
            "epsiode : 72\n",
            "Goal with key!\n",
            "episode reward: -833.0, episode step: 64880\n",
            "epsiode : 73\n",
            "Goal with key!\n",
            "episode reward: -493.0, episode step: 52553\n",
            "epsiode : 74\n",
            "Goal with key!\n",
            "episode reward: -113.0, episode step: 11199\n",
            "epsiode : 75\n",
            "Goal with key!\n",
            "episode reward: -394.0, episode step: 51754\n",
            "epsiode : 76\n",
            "Goal with key!\n",
            "episode reward: -649.0, episode step: 56029\n",
            "epsiode : 77\n",
            "Goal with key!\n",
            "episode reward: -176.0, episode step: 25615\n",
            "epsiode : 78\n",
            "Goal with key!\n",
            "episode reward: -383.0, episode step: 46030\n",
            "epsiode : 79\n",
            "Goal with key!\n",
            "episode reward: -678.0, episode step: 80511\n",
            "epsiode : 80\n",
            "Goal with key!\n",
            "episode reward: -104.0, episode step: 20746\n",
            "epsiode : 81\n",
            "episode reward: -712.0, episode step: 100000\n",
            "epsiode : 82\n",
            "Goal with key!\n",
            "episode reward: -231.0, episode step: 44261\n",
            "epsiode : 83\n",
            "episode reward: -718.0, episode step: 100000\n",
            "epsiode : 84\n",
            "Goal with key!\n",
            "episode reward: -271.0, episode step: 59317\n",
            "epsiode : 85\n",
            "Goal with key!\n",
            "episode reward: -425.0, episode step: 88221\n",
            "epsiode : 86\n",
            "episode reward: -561.0, episode step: 100000\n",
            "epsiode : 87\n",
            "Goal with key!\n",
            "episode reward: 75, episode step: 17\n",
            "epsiode : 88\n",
            "Goal with key!\n",
            "episode reward: -204.0, episode step: 28054\n",
            "epsiode : 89\n",
            "episode reward: -467.0, episode step: 100000\n",
            "epsiode : 90\n",
            "episode reward: -495.0, episode step: 100000\n",
            "epsiode : 91\n",
            "Goal with key!\n",
            "episode reward: 73, episode step: 28\n",
            "epsiode : 92\n",
            "Goal with key!\n",
            "episode reward: 15, episode step: 77\n",
            "epsiode : 93\n",
            "episode reward: -426.0, episode step: 100000\n",
            "epsiode : 94\n",
            "episode reward: -496.0, episode step: 100000\n",
            "epsiode : 95\n",
            "Goal with key!\n",
            "episode reward: -83, episode step: 166\n",
            "epsiode : 96\n",
            "episode reward: -337.0, episode step: 100000\n",
            "epsiode : 97\n",
            "episode reward: -309.0, episode step: 100000\n",
            "epsiode : 98\n",
            "Goal with key!\n",
            "episode reward: 9, episode step: 83\n",
            "epsiode : 99\n",
            "episode reward: -295.0, episode step: 100000\n",
            "The average reward is: -404.16\n",
            "The average steps is: 20664.4\n"
          ]
        },
        {
          "data": {
            "image/png": "[encoded data removed]",
            "text/plain": [
              "<Figure size 1000x500 with 2 Axes>"
            ]
          },
          "metadata": {},
          "output_type": "display_data"
        },
        {
          "name": "stdout",
          "output_type": "stream",
          "text": [
            "Goal with key!\n",
            "episode reward: -967, episode step: 177\n",
            "Learned Path:\n",
            "(0, 0)-> (1, 0)-> (2, 0)-> (1, 0)-> (1, 1)-> (1, 0)-> (0, 0)-> (1, 0)-> (2, 0)-> (3, 0)-> (2, 0)-> (1, 0)-> (0, 0)-> (1, 0)-> (1, 1)-> (1, 0)-> (1, 1)-> (1, 0)-> (2, 0)-> (3, 0)-> (2, 0)-> (1, 0)-> (1, 1)-> (1, 0)-> (2, 0)-> (3, 0)-> (4, 0)-> (3, 0)-> (4, 0)-> (3, 0)-> (4, 0)-> (3, 0)-> (4, 0)-> (3, 0)-> (2, 0)-> (1, 0)-> (1, 1)-> (1, 2)-> (1, 1)-> (1, 0)-> (0, 0)-> (1, 0)-> (0, 0)-> (1, 0)-> (2, 0)-> (3, 0)-> (2, 0)-> (1, 0)-> (2, 0)-> (3, 0)-> (2, 0)-> (1, 0)-> (1, 1)-> (1, 0)-> (0, 0)-> (1, 0)-> (2, 0)-> (3, 0)-> (2, 0)-> (1, 0)-> (2, 0)-> (1, 0)-> (1, 1)-> (1, 2)-> (2, 2)-> (3, 2)-> (2, 2)-> (3, 2)-> (3, 3)-> (3, 2)-> (4, 2)-> (3, 2)-> (2, 2)-> (3, 2)-> (2, 2)-> (3, 2)-> (3, 3)-> (3, 4)-> (4, 4)-> Goal!\n",
            "Number of steps: 177\n",
            "Total reward: -967\n"
          ]
        },
        {
          "data": {
            "text/plain": [
              "<Figure size 640x480 with 0 Axes>"
            ]
          },
          "metadata": {},
          "output_type": "display_data"
        },
        {
          "data": {
            "image/png": "[encoded data removed]",
            "text/plain": [
              "<Figure size 500x500 with 1 Axes>"
            ]
          },
          "metadata": {},
          "output_type": "display_data"
        },
        {
          "data": {
            "text/plain": [
              "(177, -967)"
            ]
          },
          "execution_count": 13,
          "metadata": {},
          "output_type": "execute_result"
        }
      ],
      "source": [
        "key_maze = KeyMaze(maze.maze, [0,0], [4,4], [0,4])\n",
        "\n",
        "key_agent = GeneralQLearningAgent(key_maze.get_actions)\n",
        "test_agent(key_agent, key_maze)\n",
        "train_agent(key_agent, key_maze, num_episodes=training_episode_count)\n",
        "\n",
        "test_agent(key_agent, key_maze)"
      ]
    },
    {
      "cell_type": "code",
      "execution_count": 14,
      "metadata": {},
      "outputs": [
        {
          "data": {
            "text/plain": [
              "{(('position', (0, 0)),): {},\n",
              " (('has_key', True),\n",
              "  ('position',\n",
              "   (0,\n",
              "    0))): {np.str_('down'): -9.997302783944093, np.str_('up'): -9.996670103634683, np.str_('right'): -0.9999999999999996, np.str_('left'): -9.996300115149648},\n",
              " (('position', (1, 0)),): {},\n",
              " (('has_key', True),\n",
              "  ('position',\n",
              "   (1,\n",
              "    0))): {np.str_('left'): -0.9999999999999996, np.str_('down'): -0.9999999999999996, np.str_('right'): -0.9999999999999996, np.str_('up'): -9.999897095698543},\n",
              " (('position', (1, 1)),): {},\n",
              " (('has_key', True),\n",
              "  ('position',\n",
              "   (1,\n",
              "    1))): {np.str_('up'): -0.9999999999999996, np.str_('right'): -9.998407320891149, np.str_('down'): -0.9999999999999996, np.str_('left'): -9.994924712139436},\n",
              " (('position', (2, 0)),): {},\n",
              " (('has_key', True),\n",
              "  ('position',\n",
              "   (2,\n",
              "    0))): {np.str_('down'): -9.997815254994716, np.str_('left'): -0.9999999999999996, np.str_('up'): -9.999704873345692, np.str_('right'): -0.9999999999999996},\n",
              " (('position', (3, 0)),): {},\n",
              " (('has_key', True),\n",
              "  ('position',\n",
              "   (3,\n",
              "    0))): {np.str_('down'): -9.999595162339771, np.str_('up'): -9.999672081495214, np.str_('left'): -0.9999999999999996, np.str_('right'): -0.9999999999999996},\n",
              " (('position', (1, 2)),): {},\n",
              " (('position', (1, 3)),): {},\n",
              " (('has_key', True),\n",
              "  ('position',\n",
              "   (1,\n",
              "    2))): {np.str_('down'): -0.9999999999999996, np.str_('left'): -0.9999999999999996, np.str_('up'): -0.9999999999999996, np.str_('right'): -0.9999999999999996},\n",
              " (('has_key', True),\n",
              "  ('position',\n",
              "   (1,\n",
              "    3))): {np.str_('up'): -0.9999999999999996, np.str_('left'): -9.993734212517822, np.str_('down'): -0.9999999999999996, np.str_('right'): -9.992264459898546},\n",
              " (('position', (0, 2)),): {},\n",
              " (('has_key', True),\n",
              "  ('position',\n",
              "   (0,\n",
              "    2))): {np.str_('left'): -9.866972053527089, np.str_('up'): -9.962428978738636, np.str_('down'): -9.972610725500466, np.str_('right'): -0.9999999999999996},\n",
              " (('position', (2, 2)),): {},\n",
              " (('position', (3, 2)),): {},\n",
              " (('has_key', True),\n",
              "  ('position',\n",
              "   (2,\n",
              "    2))): {np.str_('right'): -0.999999999999765, np.str_('up'): -9.958254420820706, np.str_('left'): -0.999999999999765, np.str_('down'): -9.92930349509849},\n",
              " (('has_key', True), ('position', (3, 2))): {np.str_('up'): -9.962428978738636,\n",
              "  np.str_('left'): -0.9999999969160541,\n",
              "  np.str_('down'): -0.9999999972244487,\n",
              "  np.str_('right'): -0.9999999972244487},\n",
              " (('position', (3, 3)),): {},\n",
              " (('has_key', True),\n",
              "  ('position',\n",
              "   (3,\n",
              "    3))): {np.str_('right'): -8.905810108684877, np.str_('up'): -0.9999635646105794, np.str_('down'): -0.9999635646105794, np.str_('left'): -9.01522909781639},\n",
              " (('position', (4, 2)),): {},\n",
              " (('has_key', True),\n",
              "  ('position',\n",
              "   (4,\n",
              "    2))): {np.str_('right'): -8.146979811148158, np.str_('up'): -7.712320754503899, np.str_('left'): -0.9999999972244487, np.str_('down'): -7.712320754503899},\n",
              " (('position', (4, 0)),): {},\n",
              " (('has_key', True),\n",
              "  ('position',\n",
              "   (4,\n",
              "    0))): {np.str_('left'): -0.9999999999999996, np.str_('up'): -9.999444667132746, np.str_('right'): -9.99436079126604, np.str_('down'): -9.988209815422262},\n",
              " (('position', (1, 4)),): {},\n",
              " (('position', (0, 4)),): {},\n",
              " (('has_key', True), ('position', (1, 4))): {np.str_('left'): 0.0,\n",
              "  np.str_('right'): -9.999999999999993,\n",
              "  np.str_('down'): -9.999999999999993,\n",
              "  np.str_('up'): -0.9999999999999996},\n",
              " (('has_key', True),\n",
              "  ('position',\n",
              "   (0,\n",
              "    4))): {np.str_('right'): -0.9999999999999996, np.str_('down'): 0.0, np.str_('up'): 0.0, np.str_('left'): 0.0},\n",
              " (('position', (3, 4)),): {},\n",
              " (('has_key', True),\n",
              "  ('position',\n",
              "   (3,\n",
              "    4))): {np.str_('up'): -0.5217031000000001, np.str_('right'): 99.99238226519539, np.str_('down'): -5.6953279000000006, np.str_('left'): -4.0951},\n",
              " (('position', (4, 4)),): {}}"
            ]
          },
          "execution_count": 14,
          "metadata": {},
          "output_type": "execute_result"
        }
      ],
      "source": [
        "key_agent.q_table"
      ]
    },
    {
      "cell_type": "markdown",
      "metadata": {
        "id": "WdMqOalyPyR6"
      },
      "source": [
        "## **Evaluating the Agent**"
      ]
    },
    {
      "cell_type": "markdown",
      "metadata": {
        "id": "JHtm7byfP255"
      },
      "source": [
        "1. Test the agent again using the test_agent function. Run the code 10 times and note how many steps the agent takes to reach the goal. On average, how many steps does the agent take?\n",
        "2. Does the agent consistently find the shortest path from the starting position to the goal?"
      ]
    },
    {
      "cell_type": "markdown",
      "metadata": {
        "id": "gM0DhgMuP4sM"
      },
      "source": [
        "## **Experimenting and Improving**"
      ]
    },
    {
      "cell_type": "markdown",
      "metadata": {
        "id": "5p8Zb4jTP7lB"
      },
      "source": [
        "Try experimenting with a different reward system to see how that affects how the agent learns. Copy or run this cell multiple times, changing the goal reward from 0 to 1, 10, 20, 30, etc.. and to 100, and 1000."
      ]
    },
    {
      "cell_type": "code",
      "execution_count": 15,
      "metadata": {
        "id": "jHry-2UIP0iW"
      },
      "outputs": [
        {
          "ename": "NameError",
          "evalue": "name 'actions' is not defined",
          "output_type": "error",
          "traceback": [
            "\u001b[0;31m---------------------------------------------------------------------------\u001b[0m",
            "\u001b[0;31mNameError\u001b[0m                                 Traceback (most recent call last)",
            "Cell \u001b[0;32mIn[15], line 5\u001b[0m\n\u001b[1;32m      2\u001b[0m wall_penalty \u001b[38;5;241m=\u001b[39m \u001b[38;5;241m-\u001b[39m\u001b[38;5;241m1\u001b[39m\n\u001b[1;32m      3\u001b[0m step_penalty \u001b[38;5;241m=\u001b[39m \u001b[38;5;241m-\u001b[39m\u001b[38;5;241m0.1\u001b[39m\n\u001b[0;32m----> 5\u001b[0m agent \u001b[38;5;241m=\u001b[39m QLearningAgent(maze, \u001b[43mactions\u001b[49m)\n\u001b[1;32m      7\u001b[0m train_agent(agent, maze, num_episodes\u001b[38;5;241m=\u001b[39m\u001b[38;5;241m300\u001b[39m)\n",
            "\u001b[0;31mNameError\u001b[0m: name 'actions' is not defined"
          ]
        }
      ],
      "source": [
        "goal_reward = 10\n",
        "wall_penalty = -1\n",
        "step_penalty = -0.1\n",
        "\n",
        "agent = QLearningAgent(maze, actions)\n",
        "\n",
        "train_agent(agent, maze, num_episodes=300)"
      ]
    },
    {
      "cell_type": "markdown",
      "metadata": {
        "id": "JDlMoIRYQyJX"
      },
      "source": [
        "## **Variation: Creating More Mazes**"
      ]
    },
    {
      "cell_type": "markdown",
      "metadata": {
        "id": "iCz1tNtcQ1sw"
      },
      "source": [
        "Create new mazes and test how well the agent performs in more complex mazes with multiple paths and dead ends"
      ]
    },
    {
      "cell_type": "code",
      "execution_count": 89,
      "metadata": {
        "id": "z-mFNtlDQ7U0"
      },
      "outputs": [
        {
          "ename": "SyntaxError",
          "evalue": "invalid syntax (1408327039.py, line 5)",
          "output_type": "error",
          "traceback": [
            "\u001b[0;36m  Cell \u001b[0;32mIn[89], line 5\u001b[0;36m\u001b[0m\n\u001b[0;31m    start_x = #\u001b[0m\n\u001b[0m              ^\u001b[0m\n\u001b[0;31mSyntaxError\u001b[0m\u001b[0;31m:\u001b[0m invalid syntax\n"
          ]
        }
      ],
      "source": [
        "# Create any maze layout you'd like\n",
        "maze_layout = np.array([[]])\n",
        "\n",
        "# Create an instance of the maze and set the starting and ending positions\n",
        "start_x = #\n",
        "start_y = #\n",
        "goal_x = #\n",
        "goal_y = #\n",
        "maze = Maze(maze_layout, (start_x, start_y), (goal_x, goal_y))\n",
        "# Visualize the maze\n",
        "maze.show_maze()"
      ]
    },
    {
      "cell_type": "code",
      "execution_count": null,
      "metadata": {
        "id": "Nq2YEtefRZjw"
      },
      "outputs": [],
      "source": [
        "# Create the agent object\n",
        "agent = QLearningAgent(maze, actions)\n",
        "# Test the agent using the test_agent function\n",
        "test_agent(agent, maze)"
      ]
    },
    {
      "cell_type": "code",
      "execution_count": null,
      "metadata": {
        "id": "0_v2bxszRQO1"
      },
      "outputs": [],
      "source": [
        "# Training the agent\n",
        "train_agent(agent, maze, num_episodes=100)"
      ]
    },
    {
      "cell_type": "code",
      "execution_count": null,
      "metadata": {
        "id": "-HGoLr8ARfBE"
      },
      "outputs": [],
      "source": [
        "# Testing agent again after training, feel free to run multiple times\n",
        "test_agent(agent, maze)"
      ]
    }
  ],
  "metadata": {
    "colab": {
      "provenance": []
    },
    "kernelspec": {
      "display_name": "Python 3",
      "name": "python3"
    },
    "language_info": {
      "codemirror_mode": {
        "name": "ipython",
        "version": 3
      },
      "file_extension": ".py",
      "mimetype": "text/x-python",
      "name": "python",
      "nbconvert_exporter": "python",
      "pygments_lexer": "ipython3",
      "version": "3.12.8"
    }
  },
  "nbformat": 4,
  "nbformat_minor": 0
}
